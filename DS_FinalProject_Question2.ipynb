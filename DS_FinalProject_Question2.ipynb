{
 "cells": [
  {
   "cell_type": "markdown",
   "id": "580820b0",
   "metadata": {},
   "source": [
    "# Question 2 - Hamming's Code"
   ]
  },
  {
   "cell_type": "code",
   "execution_count": 1,
   "id": "56a961aa",
   "metadata": {},
   "outputs": [],
   "source": [
    "# imports\n",
    "import numpy as np"
   ]
  },
  {
   "cell_type": "markdown",
   "id": "4db55829",
   "metadata": {},
   "source": [
    "## Supporting functions\n",
    "\n",
    "This function is used when a user wants to transmit/ store a decimal number. The decimal number is transformed into a 4-bit binary number."
   ]
  },
  {
   "cell_type": "code",
   "execution_count": 13,
   "id": "44c37294",
   "metadata": {},
   "outputs": [],
   "source": [
    "def create_4bit_vector(decimal_num):\n",
    "    \"\"\"\n",
    "    Create a 4 bit vector binary number from a decimal number.\n",
    "    \n",
    "    Args:\n",
    "        decimal_num: decimal numbers from 0 to 15, only integers are accepted. \n",
    "\n",
    "    Returns:\n",
    "        4-bit binary number in form of a NumpPy Array with the dimension (4,).\n",
    "    \"\"\"\n",
    "    \n",
    "    # check if input is a integer number\n",
    "    if not isinstance(decimal_num, int):\n",
    "        return ('Error: Input must be an integer between 0 and 15')\n",
    "    \n",
    "    # check if input is between 0 and 15 as these numbers can be represented as 4-bit binary numbers\n",
    "    if decimal_num < 0 or decimal_num > 15:\n",
    "        return ('Error: Input not valid. Please enter a decimal number between 0 and 15.')\n",
    "    \n",
    "    # transfer decimal number into a binary number, width 4 to receive 4 digits\n",
    "    bin_num = np.binary_repr(decimal_num, width=4)\n",
    "    \n",
    "    # split the number into a list of digits\n",
    "    number_split = [int(num) for num in bin_num]\n",
    "    \n",
    "    # create an array out of the list of digits\n",
    "    number_array = np.array(number_split)\n",
    "    \n",
    "    return number_array\n"
   ]
  },
  {
   "cell_type": "markdown",
   "id": "8aedf730",
   "metadata": {},
   "source": [
    "## Question 2.1 - Hamming Encoder & Parity Check"
   ]
  },
  {
   "cell_type": "code",
   "execution_count": 3,
   "id": "24113198",
   "metadata": {},
   "outputs": [],
   "source": [
    "def hamming_encoder(w):\n",
    "    \"\"\"\n",
    "    Hamming encoder which takes a 4-bit binary value as an input\n",
    "    and returns the resulting 7-bit binary vector codeword.\n",
    "    \n",
    "    Args:\n",
    "        w: 4-bit binary number in form of a NumpPy Array with the dimension (4,)\n",
    "\n",
    "    Returns:\n",
    "        7-bit binary codeword in form of a NumpPy Array with the dimension (7,).\n",
    "    \"\"\"\n",
    "    \n",
    "    # ensure correct function input\n",
    "    if not isinstance(w, np.ndarray):\n",
    "        return (\"Error: Invalid input. Please enter a numpy array as the input argument\")\n",
    "    \n",
    "    if not w.shape == (4,):\n",
    "        return (\"Error: Invalid input. Please enter a 4x1 numpy array as an input argument\")\n",
    "    \n",
    "    \n",
    "    # Code generator matrix G\n",
    "    G = np.array([[1,1,0,1],\n",
    "                  [1,0,1,1],\n",
    "                  [1,0,0,0],\n",
    "                  [0,1,1,1],\n",
    "                  [0,1,0,0],\n",
    "                  [0,0,1,0],\n",
    "                  [0,0,0,1]])\n",
    "    \n",
    "    # Calculate transmitted codeword c by multiplying G with w (dot product)\n",
    "    c = np.matmul(G, w)\n",
    "    \n",
    "    # calculate modulo 2 of each element in the codeword c\n",
    "    c = np.mod(c, 2)\n",
    "    \n",
    "    return c\n",
    "\n",
    "\n",
    "def parity_check(c):\n",
    "    \"\"\"\n",
    "    Parity check function to see if any errors occured.\n",
    "    \n",
    "    Args:\n",
    "        c:  7-bit binary codeword in form of a NumpPy Array with the dimension (7,)\n",
    "\n",
    "    Returns:\n",
    "        Syndrome vector z which indicates if an error occured and in which bit. \n",
    "        If no error occured the resulting syndrom vector is the null-vector.\n",
    "    \"\"\"\n",
    "    \n",
    "    # ensure correct function input\n",
    "    if not isinstance(c, np.ndarray):\n",
    "        return (\"Error: Invalid input. Please enter a numpy array as an input argument\")\n",
    "    \n",
    "    if not c.shape == (7,):\n",
    "        return (\"Error: Invalid input. Please enter a 7x1 numpy array as an input argument\")\n",
    "    \n",
    "    # parity check matrix H\n",
    "    H = np.array([[1,0,1,0,1,0,1],\n",
    "                  [0,1,1,0,0,1,1],\n",
    "                  [0,0,0,1,1,1,1]])\n",
    "    \n",
    "    # error syndrome\n",
    "    z = np.matmul(H, c)\n",
    "    \n",
    "    # calculate modulo 2 of each element\n",
    "    z = np.mod(z, 2)\n",
    "    \n",
    "    return z\n"
   ]
  },
  {
   "cell_type": "markdown",
   "id": "7916b323",
   "metadata": {},
   "source": [
    "## Question 2.2 - Hamming Decoder"
   ]
  },
  {
   "cell_type": "code",
   "execution_count": 4,
   "id": "d42430ed",
   "metadata": {},
   "outputs": [],
   "source": [
    "def hamming_decoder(c):\n",
    "    \"\"\"\n",
    "    Hamming decoder which takes a 7-bit vector codeword as an input \n",
    "    and returns the original 4-bit vector word.\n",
    "    \n",
    "    Args:\n",
    "        c:  7-bit binary codeword in form of a NumpPy Array with the dimension (7,)\n",
    "\n",
    "    Returns:\n",
    "        Decoded 4-bit vector. Should be identical to the original 4-bit vector.\n",
    "    \"\"\"\n",
    "    \n",
    "    # ensure correct function input\n",
    "    if not isinstance(c, np.ndarray):\n",
    "        return (\"Error: Invalid input. Please enter a numpy array as an input argument\")\n",
    "    \n",
    "    if not c.shape == (7,):\n",
    "        return (\"Error: Invalid input. Please enter a 7x1 numpy array as an input argument\")\n",
    "    \n",
    "    # hamming's decoder matrix\n",
    "    R = np.array([[0,0,1,0,0,0,0],\n",
    "                  [0,0,0,0,1,0,0],\n",
    "                  [0,0,0,0,0,1,0],\n",
    "                  [0,0,0,0,0,0,1]])\n",
    "    \n",
    "    # construct the original 4-bit vector word\n",
    "    p = np.matmul(R, c)\n",
    "                  \n",
    "    return p\n"
   ]
  },
  {
   "cell_type": "markdown",
   "id": "ecf7afb7",
   "metadata": {},
   "source": [
    "# Question 2.3 - Test Encoding/ Decoding for few 4-bit vectors"
   ]
  },
  {
   "cell_type": "markdown",
   "id": "f01ab24c",
   "metadata": {},
   "source": [
    "### Example Encoding/ Decoding"
   ]
  },
  {
   "cell_type": "code",
   "execution_count": 5,
   "id": "d772c064",
   "metadata": {},
   "outputs": [
    {
     "name": "stdout",
     "output_type": "stream",
     "text": [
      "Error test invalid input: Error: Input not valid. Please enter a decimal number between 0 and 15.\n",
      "\n",
      "Original 4-bit input: [0 1 1 1]\n",
      "\n",
      "encoded 7-bit codeword: [0 0 0 1 1 1 1]\n",
      "\n",
      "Parity check to indicate if error occured (if null vector no error occured): [0 0 0]\n",
      "\n",
      "decoded 4-bit original input[0 1 1 1]\n",
      "\n",
      "Ecoded array is identical to the original 4 bit input array: True\n"
     ]
    }
   ],
   "source": [
    "# create a 4 bit vector from a decimal number\n",
    "# invalid input\n",
    "print(f\"Error test invalid input: {create_4bit_vector(16)}\")\n",
    "\n",
    "w = create_4bit_vector(7)\n",
    "print(f\"\\nOriginal 4-bit input: {w}\")\n",
    "\n",
    "# encode the 4-bit vector to a 7-bit codeword\n",
    "c = hamming_encoder(w)\n",
    "print(f\"\\nencoded 7-bit codeword: {c}\")\n",
    "\n",
    "# conduct parity check\n",
    "z = parity_check(c)\n",
    "print(f\"\\nParity check to indicate if error occured (if null vector no error occured): {z}\")\n",
    "\n",
    "# decode 7-bit codeword\n",
    "p = hamming_decoder(c)\n",
    "print(f\"\\ndecoded 4-bit original input{p}\")\n",
    "\n",
    "# check if the decoded array matches the original 4 bit input array\n",
    "print(f\"\\nEcoded array is identical to the original 4 bit input array: {(w == p).all()}\")\n"
   ]
  },
  {
   "cell_type": "markdown",
   "id": "7c426f1d",
   "metadata": {},
   "source": [
    "## Test Encoding/ Decoding for few 4-bit vectors"
   ]
  },
  {
   "cell_type": "code",
   "execution_count": 14,
   "id": "9e843265",
   "metadata": {},
   "outputs": [
    {
     "name": "stdout",
     "output_type": "stream",
     "text": [
      "sent:[0 0 1 1] received: [0 0 1 1], identical: True\n",
      "sent:[1 0 1 1] received: [1 0 1 1], identical: True\n",
      "sent:[1 0 0 1] received: [1 0 0 1], identical: True\n",
      "sent:[0 1 1 1] received: [0 1 1 1], identical: True\n",
      "sent:[0 1 1 1] received: [0 1 1 1], identical: True\n",
      "sent:[1 1 0 0] received: [1 1 0 0], identical: True\n",
      "sent:[0 0 1 1] received: [0 0 1 1], identical: True\n",
      "sent:[1 0 0 0] received: [1 0 0 0], identical: True\n",
      "sent:[0 0 1 1] received: [0 0 1 1], identical: True\n",
      "sent:[0 0 0 0] received: [0 0 0 0], identical: True\n",
      "sent:[0 1 1 0] received: [0 1 1 0], identical: True\n",
      "sent:[0 0 0 1] received: [0 0 0 1], identical: True\n",
      "sent:[1 0 1 0] received: [1 0 1 0], identical: True\n",
      "sent:[1 0 1 0] received: [1 0 1 0], identical: True\n",
      "sent:[0 1 0 1] received: [0 1 0 1], identical: True\n",
      "sent:[0 0 0 0] received: [0 0 0 0], identical: True\n",
      "sent:[1 1 0 1] received: [1 1 0 1], identical: True\n",
      "sent:[1 0 0 1] received: [1 0 0 1], identical: True\n",
      "sent:[0 0 1 1] received: [0 0 1 1], identical: True\n",
      "sent:[1 0 1 1] received: [1 0 1 1], identical: True\n"
     ]
    }
   ],
   "source": [
    "# create list of 4-bit vectors\n",
    "four_bit_vectors = []\n",
    "\n",
    "# generate random 4 bit vectors\n",
    "for i in range(20):\n",
    "    four_bit_vector = np.random.choice([0, 1], size=(4,))\n",
    "    four_bit_vectors.append(four_bit_vector)\n",
    "\n",
    "# run encode and decode for all the vectors in the vectors list\n",
    "for vec in four_bit_vectors:\n",
    "    \n",
    "    # encode the 4 bit codeword\n",
    "    c_sent = hamming_encoder(vec)\n",
    "\n",
    "    # decode corrected codeword\n",
    "    p = hamming_decoder(c_sent)\n",
    "    \n",
    "    print(f\"sent:{vec} received: {p}, identical: {(vec == p).all()}\")\n"
   ]
  },
  {
   "cell_type": "markdown",
   "id": "c70f1333",
   "metadata": {},
   "source": [
    "# Additional Functionalities - Hamming Error Correction"
   ]
  },
  {
   "cell_type": "code",
   "execution_count": 7,
   "id": "3a8856a3",
   "metadata": {},
   "outputs": [],
   "source": [
    "def flip_bit(c, bitposition):\n",
    "    \"\"\"\n",
    "    Helper function used to flip a bit in the vector. \n",
    "    \n",
    "    Args:\n",
    "        c: 7-bit binary codeword in form of a NumpPy Array with the dimension (7,1)\n",
    "        bitposition: position in the 7-bit codeword which should be flipped. \n",
    "\n",
    "    Returns:\n",
    "        7-bit binary codeword with a flipped bit at the bitposition given as an argument. \n",
    "    \"\"\"\n",
    "    \n",
    "    # ensure correct function input\n",
    "    if not isinstance(c, np.ndarray):\n",
    "        return (\"Error: Invalid input. Please enter a numpy array as an input argument\")\n",
    "    \n",
    "    if not c.shape == (7,):\n",
    "        return (\"Error: Invalid input. Please enter a 7x1 numpy array as an input argument\")\n",
    "\n",
    "    if bitposition > 6 and bitposition < 0:\n",
    "        return (\"Error: Invalid input. Please enter a bitposition equal to or between 0 and 6\")\n",
    "    \n",
    "    c_flipped = c.copy()\n",
    "    \n",
    "    if c_flipped[bitposition] == 1:\n",
    "        c_flipped[bitposition] = 0\n",
    "        \n",
    "    else:\n",
    "        c_flipped[bitposition] = 1\n",
    "        \n",
    "    return c_flipped\n",
    "\n",
    "\n",
    "def correct_code(c_received):\n",
    "    \"\"\"\n",
    "    Function to correct a single bit error that occured during transmission.\n",
    "    The function cannot correct more than one-bit error.\n",
    "    \n",
    "    Args:\n",
    "        c_received: received 4-bit binary codeword in form of a NumpPy Array with the dimension (4,1)\n",
    "\n",
    "    Returns:\n",
    "        Corrected 4-bit binary codeword in form of a NumpPy Array with the dimension (4,1)\n",
    "    \"\"\"\n",
    "    \n",
    "    # ensure correct function input\n",
    "    if not isinstance(c_received, np.ndarray):\n",
    "        return (\"Error: Invalid input. Please enter a numpy array as an input argument\")\n",
    "    \n",
    "    if not c_received.shape == (7,):\n",
    "        return (\"Error: Invalid input. Please enter a 7x1 numpy array as an input argument\")\n",
    "    \n",
    "    H = np.array([[1,0,1,0,1,0,1],\n",
    "                  [0,1,1,0,0,1,1],\n",
    "                  [0,0,0,1,1,1,1]])\n",
    "    \n",
    "    parity = parity_check(c_received)\n",
    "    \n",
    "    # if the output of the parity check is not the null vector, correct the error\n",
    "    if np.all((parity == 0)):\n",
    "        print (\"No Error correction done as no error was detected.\")\n",
    "        \n",
    "        return c_received\n",
    "    \n",
    "    else:\n",
    "        \n",
    "        for index in range(H.shape[1]):\n",
    "\n",
    "            if (H[:,index] == parity).all():\n",
    "                c_corrected = flip_bit(c_received, index)\n",
    "    \n",
    "    return c_corrected\n"
   ]
  },
  {
   "cell_type": "markdown",
   "id": "bc86afae",
   "metadata": {},
   "source": [
    "## Example Error Correction"
   ]
  },
  {
   "cell_type": "code",
   "execution_count": 8,
   "id": "ac2199f9",
   "metadata": {},
   "outputs": [
    {
     "name": "stdout",
     "output_type": "stream",
     "text": [
      "\n",
      "Original 4-bit input: [0 1 1 1]\n",
      "\n",
      "encoded 7-bit codeword: [0 0 0 1 1 1 1]\n",
      "\n",
      "received codeword that contains an error in form of one flipped bit: [0 1 0 1 1 1 1]\n",
      "\n",
      "Parity check to indicate if error occured (if null vector no error occured): [0 1 0]\n",
      "\n",
      "corrected received codeword: [0 0 0 1 1 1 1]\n",
      "\n",
      "decoded 4-bit corrected codeword [0 1 1 1]\n",
      "\n",
      "original 4 bit vector annd decoded and error corrected 4 bit vector are identical: True\n"
     ]
    }
   ],
   "source": [
    "# create 4 bit vector out of a decimal number\n",
    "w = create_4bit_vector(7)\n",
    "print(f\"\\nOriginal 4-bit input: {w}\")\n",
    "\n",
    "# encode the 4 bit codeword\n",
    "c_sent = hamming_encoder(w)\n",
    "print(f\"\\nencoded 7-bit codeword: {c_sent}\")\n",
    "\n",
    "# a bit gets flipped during transmission\n",
    "c_received = flip_bit(c_sent, 1)\n",
    "print(f\"\\nreceived codeword that contains an error in form of one flipped bit: {c_received}\")\n",
    "\n",
    "# conduct parity check\n",
    "z = parity_check(c_received)\n",
    "print(f\"\\nParity check to indicate if error occured (if null vector no error occured): {z}\")\n",
    "\n",
    "# correct the received codeword\n",
    "c_corrected = correct_code(c_received)\n",
    "print(f\"\\ncorrected received codeword: {c_corrected}\")\n",
    "\n",
    "# decode corrected codeword\n",
    "p = hamming_decoder(c)\n",
    "print(f\"\\ndecoded 4-bit corrected codeword {p}\")\n",
    "\n",
    "# check if original 4 bit vector is identical with the decoded and error corrected 4 bit vector\n",
    "print(f\"\\noriginal 4 bit vector annd decoded and error corrected 4 bit vector are identical: {(w == p).all()}\")\n"
   ]
  },
  {
   "cell_type": "markdown",
   "id": "8ca9e550",
   "metadata": {},
   "source": [
    "## Testing the Error Correction"
   ]
  },
  {
   "cell_type": "code",
   "execution_count": 9,
   "id": "c436a049",
   "metadata": {},
   "outputs": [
    {
     "name": "stdout",
     "output_type": "stream",
     "text": [
      "4-bit sent:[0 1 0 1], 4-bit decoded: [0 1 0 1], identical : True\n",
      "4-bit sent:[0 1 0 0], 4-bit decoded: [0 1 0 0], identical : True\n",
      "4-bit sent:[1 0 1 1], 4-bit decoded: [1 0 1 1], identical : True\n",
      "4-bit sent:[1 1 1 0], 4-bit decoded: [1 1 1 0], identical : True\n",
      "4-bit sent:[1 1 0 0], 4-bit decoded: [1 1 0 0], identical : True\n",
      "4-bit sent:[0 1 1 0], 4-bit decoded: [0 1 1 0], identical : True\n",
      "4-bit sent:[1 0 0 0], 4-bit decoded: [1 0 0 0], identical : True\n",
      "4-bit sent:[1 1 1 0], 4-bit decoded: [1 1 1 0], identical : True\n",
      "4-bit sent:[1 1 1 1], 4-bit decoded: [1 1 1 1], identical : True\n",
      "4-bit sent:[0 0 1 1], 4-bit decoded: [0 0 1 1], identical : True\n",
      "4-bit sent:[1 1 1 0], 4-bit decoded: [1 1 1 0], identical : True\n",
      "4-bit sent:[0 1 1 0], 4-bit decoded: [0 1 1 0], identical : True\n",
      "4-bit sent:[0 1 1 0], 4-bit decoded: [0 1 1 0], identical : True\n",
      "4-bit sent:[1 1 1 1], 4-bit decoded: [1 1 1 1], identical : True\n",
      "4-bit sent:[0 0 0 0], 4-bit decoded: [0 0 0 0], identical : True\n",
      "4-bit sent:[0 1 1 1], 4-bit decoded: [0 1 1 1], identical : True\n",
      "4-bit sent:[0 0 1 1], 4-bit decoded: [0 0 1 1], identical : True\n",
      "4-bit sent:[1 1 1 0], 4-bit decoded: [1 1 1 0], identical : True\n",
      "4-bit sent:[0 1 1 0], 4-bit decoded: [0 1 1 0], identical : True\n",
      "4-bit sent:[0 1 1 0], 4-bit decoded: [0 1 1 0], identical : True\n"
     ]
    }
   ],
   "source": [
    "# create list of 4-bit vectors\n",
    "four_bit_vectors = []\n",
    "\n",
    "# generate random 4 bit vectors\n",
    "for i in range(20):\n",
    "    four_bit_vector = np.random.choice([0, 1], size=(4,))\n",
    "    four_bit_vectors.append(four_bit_vector)\n",
    "\n",
    "# run encode and decode for all the vectors in the vectors list\n",
    "for vec in four_bit_vectors:\n",
    "\n",
    "    # encode the 4 bit codeword\n",
    "    c_sent = hamming_encoder(vec)\n",
    "\n",
    "    # a bit gets flipped during transmission\n",
    "    bit = np.random.randint(7)\n",
    "    c_received = flip_bit(c_sent, bit)\n",
    "\n",
    "    # correct the received codeword\n",
    "    c_corrected = correct_code(c_received)\n",
    "\n",
    "    # decode corrected codeword\n",
    "    p = hamming_decoder(c_corrected)\n",
    "\n",
    "    # check if original 4 bit vector is identical with the decoded and error corrected 4 bit vector\n",
    "    #print(f\"c_sent: {c_sent}, c_received: {c_received}, c_corrected: {c_corrected}\")\n",
    "    print(f\"4-bit sent:{vec}, 4-bit decoded: {p}, identical : {(vec == p).all()}\")\n"
   ]
  },
  {
   "cell_type": "markdown",
   "id": "383d870e",
   "metadata": {},
   "source": [
    "# Proofs"
   ]
  },
  {
   "cell_type": "markdown",
   "id": "46f6f3b6",
   "metadata": {},
   "source": [
    "## Proof 1: More than 1-bit Errors cannot be corrected"
   ]
  },
  {
   "cell_type": "code",
   "execution_count": 10,
   "id": "753e4ad0",
   "metadata": {},
   "outputs": [
    {
     "name": "stdout",
     "output_type": "stream",
     "text": [
      "\n",
      "Case 1: Error in 2-bits\n",
      "----------------\n",
      "syndrom vector: [0 0 0]\n",
      "original 4-bit vector: [1 0 0 0]\n",
      "decoded 4-bit vector: [1 0 1 0]\n",
      "\n",
      "\n",
      "Case 2: Error in 3-bits\n",
      "----------------\n",
      "syndrom vector: [0 0 0]\n",
      "original 4-bit vector: [1 0 0 0]\n",
      "decoded 4-bit vector: [0 0 1 1]\n"
     ]
    }
   ],
   "source": [
    "## Case 1: error in 2-bits\n",
    "\n",
    "# generate an exammple NumPy array\n",
    "a1 = np.array([1,0,0,0])\n",
    "\n",
    "# encode the 4-bit vector to a 7-bit codeword\n",
    "c1 = hamming_encoder(a1)\n",
    "\n",
    "# flip a bit at two positions in the 7-bit codeword\n",
    "c_error1 = flip_bit(c1, 1)\n",
    "c_error1 = flip_bit(c_error1, 5)\n",
    "\n",
    "# try to correct the error\n",
    "c_corrected1 = correct_code(c_error1)\n",
    "\n",
    "# decode the 7-bit codeword to a 4-bit vector\n",
    "c_decoded1 = hamming_decoder(c_corrected1)\n",
    "\n",
    "# print the result of the proof\n",
    "print(\"\\nCase 1: Error in 2-bits\\n----------------\")\n",
    "print(f\"syndrom vector: {parity_check(c_corrected1)}\")\n",
    "print(f\"original 4-bit vector: {a1}\")\n",
    "print(f\"decoded 4-bit vector: {c_decoded1}\")\n",
    "\n",
    "\n",
    "## Case 2: error in 3-bits\n",
    "\n",
    "# generate an exammple NumPy array\n",
    "a2 = np.array([1,0,0,0])\n",
    "\n",
    "# encode the 4-bit vector to a 7-bit codeword\n",
    "c2 = hamming_encoder(a2)\n",
    "\n",
    "# flip a bit at three positions\n",
    "c_error2 = flip_bit(c2, 1)\n",
    "c_error2 = flip_bit(c_error2, 5)\n",
    "c_error2 = flip_bit(c_error2, 6)\n",
    "\n",
    "# try to correct the error\n",
    "c_corrected2 = correct_code(c_error2)\n",
    "\n",
    "# decode the 7-bit codeword to a 4-bit vector\n",
    "c_decoded2 = hamming_decoder(c_corrected2)\n",
    "\n",
    "# print the result of the proof\n",
    "print(\"\\n\\nCase 2: Error in 3-bits\\n----------------\")\n",
    "print(f\"syndrom vector: {parity_check(c_corrected2)}\")\n",
    "print(f\"original 4-bit vector: {a2}\")\n",
    "print(f\"decoded 4-bit vector: {c_decoded2}\")"
   ]
  },
  {
   "cell_type": "markdown",
   "id": "7ee5cdfd",
   "metadata": {},
   "source": [
    "## Proof 2: More than 2 errors cannot be detected"
   ]
  },
  {
   "cell_type": "code",
   "execution_count": 12,
   "id": "071b2788",
   "metadata": {},
   "outputs": [
    {
     "name": "stdout",
     "output_type": "stream",
     "text": [
      "Error in 3-bits\n",
      "----------------\n",
      "syndrom vector: [0 0 0]\n",
      "original 7-bit codeword: [0 0 0 0 0 0 0]\n",
      "7-bit vector with 3 errors: [1 1 1 0 0 0 0]\n"
     ]
    }
   ],
   "source": [
    "# create an example array\n",
    "a = np.array([0,0,0,0])\n",
    "\n",
    "# encode the example array\n",
    "c = hamming_encoder(a)\n",
    "\n",
    "# flip 3 bits (3 errors)\n",
    "c_error = flip_bit(c, 2) # flip d1\n",
    "c_error = flip_bit(c_error, 0) # flip P1\n",
    "c_error = flip_bit(c_error, 1) # flip P2\n",
    "\n",
    "# parity check the codeword\n",
    "parity_check(c_error)\n",
    "\n",
    "# decode the 7-bit codeword to a 4-bit vector\n",
    "c_decoded = hamming_decoder(c_error)\n",
    "\n",
    "# print the result of the proof\n",
    "print(\"Error in 3-bits\\n----------------\")\n",
    "print(f\"syndrom vector: {parity_check(c_error)}\")\n",
    "print(f\"original 7-bit codeword: {c}\")\n",
    "print(f\"7-bit vector with 3 errors: {c_error}\")"
   ]
  },
  {
   "cell_type": "code",
   "execution_count": null,
   "id": "8886549c",
   "metadata": {},
   "outputs": [],
   "source": []
  }
 ],
 "metadata": {
  "kernelspec": {
   "display_name": "Python 3 (ipykernel)",
   "language": "python",
   "name": "python3"
  },
  "language_info": {
   "codemirror_mode": {
    "name": "ipython",
    "version": 3
   },
   "file_extension": ".py",
   "mimetype": "text/x-python",
   "name": "python",
   "nbconvert_exporter": "python",
   "pygments_lexer": "ipython3",
   "version": "3.9.12"
  },
  "toc": {
   "base_numbering": 1,
   "nav_menu": {},
   "number_sections": true,
   "sideBar": true,
   "skip_h1_title": false,
   "title_cell": "Table of Contents",
   "title_sidebar": "Contents",
   "toc_cell": false,
   "toc_position": {},
   "toc_section_display": true,
   "toc_window_display": false
  }
 },
 "nbformat": 4,
 "nbformat_minor": 5
}
