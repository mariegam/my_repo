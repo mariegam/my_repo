{
 "cells": [
  {
   "cell_type": "markdown",
   "id": "668ba07f",
   "metadata": {},
   "source": [
    "## Big Oh notation analysis of selected functions from Question 1"
   ]
  },
  {
   "cell_type": "markdown",
   "id": "14fa1f7a",
   "metadata": {},
   "source": [
    "**NB** this is not functional code - merely snippets from DS_FinalProject_Question1.ipynb"
   ]
  },
  {
   "cell_type": "markdown",
   "id": "4ce332f9",
   "metadata": {},
   "source": [
    "The most time complex blocks within the Sub NumPy code are double and triple nested for-loop or nested list comprehension is used. These code chunks have a time complexity of O(n^2) and O(n^3), respenctively. Therefore we see that the Sub NumPy functions have, at most, quadratic or cubic time complexity, when analysing using Big Oh notation and looking at the dominating terms. However, we still see that most of the functions are of the constant or linear complexity classes. One of the functions with higher time complexity is the `snp.add()` function, which overall has quadratic complexity. The `snp.dotproduct()` has cubic complexity.\n",
    "\n",
    "The analyses of the codes using Big Oh notation can be seen in the snippets of code below, in the comments next to each line of code, and at the end of each code."
   ]
  },
  {
   "cell_type": "markdown",
   "id": "83aca2b1",
   "metadata": {},
   "source": [
    "### `snp.vector_check` and `snp.matrix_check`"
   ]
  },
  {
   "cell_type": "code",
   "execution_count": 1,
   "id": "59bdcc6e",
   "metadata": {},
   "outputs": [],
   "source": [
    "# Big Oh notation analysis of function in Question 7\n",
    "# NB not functional functions!!\n",
    "\n",
    "def vector_check_BIG_OH_ANALYSIS(self, array):\n",
    "    \"\"\" Not a function for use - copied and simplified for calculating Big Oh notation\"\"\"\n",
    "\n",
    "    return(all(isinstance(i, int) for i in array) == True)                       # dominating = O(n)\n",
    "\n",
    "# Total Big Oh:   O(n) \n",
    "\n",
    "\n",
    "def matrix_check_BIG_OH_ANALYSIS(self, array):\n",
    "    \"\"\" Not a function for use - copied and simplified for calculating Big Oh notation\"\"\"\n",
    "\n",
    "    if all(isinstance(i, list) for i in array) == True:                         # dominating = O(n)\n",
    "\n",
    "        return(all([all([isinstance(i, int) for i in l]) for l in array]) and \n",
    "               all(len(j) == len(array[0]) for j in array) == True)             # dominating = O(n^2 + n) = O(n^2)\n",
    "\n",
    "    else:\n",
    "        return False                                                             # O(1)\n",
    "    \n",
    "# Total Big Oh:   O(n + n^2 + 1)\n",
    "#               = O(n^2)"
   ]
  },
  {
   "cell_type": "markdown",
   "id": "a3acadf1",
   "metadata": {},
   "source": [
    "### Exercise 1 and 2 - `snp.ones()` and `snp.zeros()`"
   ]
  },
  {
   "cell_type": "code",
   "execution_count": 2,
   "id": "31f7365e",
   "metadata": {},
   "outputs": [
    {
     "ename": "IndentationError",
     "evalue": "unexpected indent (2654954208.py, line 2)",
     "output_type": "error",
     "traceback": [
      "\u001b[0;36m  Input \u001b[0;32mIn [2]\u001b[0;36m\u001b[0m\n\u001b[0;31m    for r in range(nr_rows):\u001b[0m\n\u001b[0m    ^\u001b[0m\n\u001b[0;31mIndentationError\u001b[0m\u001b[0;31m:\u001b[0m unexpected indent\n"
     ]
    }
   ],
   "source": [
    "# Dominating term in both functions is the single for-loop:\n",
    "    for r in range(nr_rows):\n",
    "        array.append(row)       # O(2n) = O(n) (2 is removed because it doesn't change the complexity class (order of growth is the same), what matters is for instance if it was ^2, --> would change the complexity class)\n",
    "        # ignore additive constants, ignore multiplicative constants becuase you are looking at worst case asymptotic complexity\n",
    "        \n",
    "# Giving linear complexity"
   ]
  },
  {
   "cell_type": "markdown",
   "id": "73b36d26",
   "metadata": {},
   "source": [
    "### Exercise 3 - `snp.reshape()`"
   ]
  },
  {
   "cell_type": "code",
   "execution_count": null,
   "id": "81a87fff",
   "metadata": {},
   "outputs": [],
   "source": [
    "# Dominating terms are nested list comprehension and nested for-loop:\n",
    "    if self.matrix_check(array) == True:\n",
    "        array = [item for sublist in array for item in sublist]    # Dominating: O(n^2)\n",
    "\n",
    "\n",
    "    if rows*cols == len(array):\n",
    "        for element in range(rows):\n",
    "            list_rows = []\n",
    "            for element in range(cols):\n",
    "                list_rows.append(array[k])\n",
    "                k += 1                                             # Dominating: O(n^2)\n",
    "                \n",
    "# With the law of addition for O(), this gives us complexity: O(2n^2) = O(n^2)"
   ]
  },
  {
   "cell_type": "markdown",
   "id": "47820748",
   "metadata": {},
   "source": [
    "### Exercise 7 - `snp.add()`"
   ]
  },
  {
   "cell_type": "code",
   "execution_count": 3,
   "id": "bf5d6a85",
   "metadata": {},
   "outputs": [],
   "source": [
    "# Big Oh notation analysis of function in Question 7\n",
    "# NB not a functional function\n",
    "\n",
    "def add_BIG_OH_ANALYSIS(self, array1, array2):\n",
    "    \"\"\" Not a function for use - copied and simplified for calculating Big Oh notation\"\"\"\n",
    "    \n",
    "    shape_array1 = self.shape(array1)     # O(c) = O(1) \n",
    "    shape_array2 = self.shape(array2)     # O(c) = O(1)\n",
    "\n",
    "    if shape_array1 == shape_array2:      # O(c) = O(1)   \n",
    "\n",
    "        if self.vector_check(array1) == True and self.vector_check(array2) == True:    # O(2n) = O(n)\n",
    "\n",
    "            return([array1[x] + array2[x] for x in range(shape_array1[1])])            # O(2n+1) = O(n)\n",
    "\n",
    "        \n",
    "        elif self.matrix_check(array1) == True and self.matrix_check(array2) == True:  # O(2n^2) = O(n^2)\n",
    "\n",
    "            return([[array1[i][j] + array2[i][j] for j in range(shape_array1[1])] for i in range(shape_array1[0])])  # O(n*2n +1) = O(n^2)\n",
    "            # you take it from the right in this instance as you have to imagine how it would look as a normal for loop. \n",
    "            # you would refrence the rows in the outer loop [0] part (n), then the cols in the nested (2n - two because addtion + specifying j)\n",
    "            # then the return statement is (1). n and 2n is multiplied as the loop is nested \n",
    "            \n",
    "        else: \n",
    "            print(\"error message\")        # O(c) = O(1)\n",
    "            return\n",
    "\n",
    "    else: \n",
    "        print(\"error message\")            # O(c) = O(1)\n",
    "        return\n",
    "\n",
    "    \n",
    "# Total Big Oh:   O(1 + 1 + 1 + n + n + n^2 + n^2 + 1 + 1) \n",
    "#               = O(5 + 2n + 2n^2)\n",
    "#               = O(n^2)  "
   ]
  },
  {
   "cell_type": "markdown",
   "id": "df487717",
   "metadata": {},
   "source": [
    "### Exercise 9 - snp.dotproduct()"
   ]
  },
  {
   "cell_type": "code",
   "execution_count": null,
   "id": "d727ed53",
   "metadata": {},
   "outputs": [],
   "source": [
    "# Dominating terms come from triple nested for-loops:\n",
    "\n",
    "    for i in range(row1):                                # O(3n) n is refering to number of rows of the first matrix\n",
    "        l = []\n",
    "        for j in range(col2):                                # O(3n) n is refring to number of cols\n",
    "            sum_matrix = 0\n",
    "            for x in range(row2):                                # O(4n) n is refering to number of rows of the second matrix\n",
    "                sum_matrix += array1[i][x] * array2[x][j]\n",
    "            l.append(sum_matrix)\n",
    "        matrix.append(l)\n",
    "\n",
    "# Total Big Oh:   O(3n) * O(3n) * O(4n) = O(n) * O(n) * O(n)\n",
    "#               = O(n^3) # "
   ]
  }
 ],
 "metadata": {
  "kernelspec": {
   "display_name": "Python 3 (ipykernel)",
   "language": "python",
   "name": "python3"
  },
  "language_info": {
   "codemirror_mode": {
    "name": "ipython",
    "version": 3
   },
   "file_extension": ".py",
   "mimetype": "text/x-python",
   "name": "python",
   "nbconvert_exporter": "python",
   "pygments_lexer": "ipython3",
   "version": "3.9.12"
  }
 },
 "nbformat": 4,
 "nbformat_minor": 5
}
